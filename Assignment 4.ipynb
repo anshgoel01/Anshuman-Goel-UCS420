{
 "cells": [
  {
   "cell_type": "code",
   "execution_count": 1,
   "id": "140856cf-a405-4467-830a-985c5ec95b65",
   "metadata": {},
   "outputs": [
    {
     "name": "stdout",
     "output_type": "stream",
     "text": [
      "After adding 2: [12 22 32 42 52]\n",
      "After multiplying by 3: [ 30  60  90 120 150]\n",
      "After dividing by 2: [ 5. 10. 15. 20. 25.]\n"
     ]
    }
   ],
   "source": [
    "import numpy as np\n",
    "\n",
    "arr = np.array([10, 20, 30, 40, 50])\n",
    "\n",
    "add_arr = arr + 2\n",
    "print(\"After adding 2:\", add_arr)\n",
    "\n",
    "mul_arr = arr * 3\n",
    "print(\"After multiplying by 3:\", mul_arr)\n",
    "\n",
    "div_arr = arr / 2\n",
    "print(\"After dividing by 2:\", div_arr)\n"
   ]
  },
  {
   "cell_type": "code",
   "execution_count": 2,
   "id": "c9a00a48-246f-49e3-b469-d1f88a606211",
   "metadata": {},
   "outputs": [
    {
     "name": "stdout",
     "output_type": "stream",
     "text": [
      "Reversed array: [5 4 6 3 2 1]\n",
      "Most frequent value in x: 1, Indices: [0 5 7 8 9]\n",
      "Most frequent value in y: 1, Indices: [0 1 2]\n"
     ]
    }
   ],
   "source": [
    "arr_reverse = np.array([1, 2, 3, 6, 4, 5])[::-1]\n",
    "print(\"Reversed array:\", arr_reverse)\n",
    "\n",
    "def most_frequent(arr):\n",
    "    unique, counts = np.unique(arr, return_counts=True)\n",
    "    max_count = np.max(counts)\n",
    "    most_frequent_value = unique[np.argmax(counts)]\n",
    "    indices = np.where(arr == most_frequent_value)[0]\n",
    "    return most_frequent_value, indices\n",
    "\n",
    "# i. For array x\n",
    "x = np.array([1, 2, 3, 4, 5, 1, 2, 1, 1, 1])\n",
    "value_x, indices_x = most_frequent(x)\n",
    "print(f\"Most frequent value in x: {value_x}, Indices: {indices_x}\")\n",
    "\n",
    "# ii. For array y\n",
    "y = np.array([1, 1, 1, 2, 3, 4, 2, 4, 3, 3])\n",
    "value_y, indices_y = most_frequent(y)\n",
    "print(f\"Most frequent value in y: {value_y}, Indices: {indices_y}\")\n"
   ]
  },
  {
   "cell_type": "code",
   "execution_count": 3,
   "id": "93482e95-826b-4cc1-a842-cd70f5b7bd05",
   "metadata": {},
   "outputs": [
    {
     "name": "stdout",
     "output_type": "stream",
     "text": [
      "Element at 1st row, 2nd column: 20\n",
      "Element at 3rd row, 1st column: 70\n"
     ]
    }
   ],
   "source": [
    "arr = np.array([[10, 20, 30], [40, 50, 60], [70, 80, 90]])\n",
    "\n",
    "a = arr[0, 1]\n",
    "print(\"Element at 1st row, 2nd column:\",a)\n",
    "\n",
    "b = arr[2, 0]\n",
    "print(\"Element at 3rd row, 1st column:\",b)"
   ]
  },
  {
   "cell_type": "code",
   "execution_count": 4,
   "id": "4d050a84-2fb7-4262-91f9-5d3927df7621",
   "metadata": {},
   "outputs": [
    {
     "name": "stdout",
     "output_type": "stream",
     "text": [
      "[ 10.    13.75  17.5   21.25  25.    28.75  32.5   36.25  40.    43.75\n",
      "  47.5   51.25  55.    58.75  62.5   66.25  70.    73.75  77.5   81.25\n",
      "  85.    88.75  92.5   96.25 100.  ]\n",
      "Dimensions: 1\n",
      "Shape: (25,)\n",
      "Total elements: 25\n",
      "Data type: float64\n",
      "Total bytes consumed: 200\n",
      "\n",
      "Transpose:\n",
      " [[ 10.  ]\n",
      " [ 13.75]\n",
      " [ 17.5 ]\n",
      " [ 21.25]\n",
      " [ 25.  ]\n",
      " [ 28.75]\n",
      " [ 32.5 ]\n",
      " [ 36.25]\n",
      " [ 40.  ]\n",
      " [ 43.75]\n",
      " [ 47.5 ]\n",
      " [ 51.25]\n",
      " [ 55.  ]\n",
      " [ 58.75]\n",
      " [ 62.5 ]\n",
      " [ 66.25]\n",
      " [ 70.  ]\n",
      " [ 73.75]\n",
      " [ 77.5 ]\n",
      " [ 81.25]\n",
      " [ 85.  ]\n",
      " [ 88.75]\n",
      " [ 92.5 ]\n",
      " [ 96.25]\n",
      " [100.  ]]\n",
      "\n",
      "Using T attribute:\n",
      " [ 10.    13.75  17.5   21.25  25.    28.75  32.5   36.25  40.    43.75\n",
      "  47.5   51.25  55.    58.75  62.5   66.25  70.    73.75  77.5   81.25\n",
      "  85.    88.75  92.5   96.25 100.  ]\n"
     ]
    }
   ],
   "source": [
    "Anshuman = np.linspace(10, 100, 25)\n",
    "print(Anshuman)\n",
    "\n",
    "print(\"Dimensions:\", Anshuman.ndim)\n",
    "print(\"Shape:\", Anshuman.shape)\n",
    "print(\"Total elements:\", Anshuman.size)\n",
    "print(\"Data type:\", Anshuman.dtype)\n",
    "print(\"Total bytes consumed:\", Anshuman.nbytes)\n",
    "\n",
    "transpose = Anshuman.reshape(25, 1)\n",
    "print(\"\\nTranspose:\\n\", transpose)\n",
    "\n",
    "print(\"\\nUsing T attribute:\\n\", Anshuman.T)"
   ]
  },
  {
   "cell_type": "code",
   "execution_count": 5,
   "id": "34ea3fef-b941-4fa3-9e38-0ee580aab900",
   "metadata": {},
   "outputs": [
    {
     "name": "stdout",
     "output_type": "stream",
     "text": [
      "Mean: 43.333333333333336\n",
      "Median: 37.5\n",
      "Max: 90\n",
      "Min: 10\n",
      "Unique elements: [10 15 20 30 35 40 50 60 70 80 90]\n",
      "\n",
      "Reshaped:\n",
      " [[10 20 30]\n",
      " [40 50 60]\n",
      " [70 80 90]\n",
      " [15 20 35]]\n",
      "\n",
      "Resized:\n",
      " [[10 20 30]\n",
      " [40 50 60]]\n"
     ]
    }
   ],
   "source": [
    "ucs420_Anshuman = np.array([[10, 20, 30, 40], [50, 60, 70, 80], [90, 15, 20, 35]])\n",
    "\n",
    "print(\"Mean:\", np.mean(ucs420_Anshuman))\n",
    "print(\"Median:\", np.median(ucs420_Anshuman))\n",
    "print(\"Max:\", np.max(ucs420_Anshuman))\n",
    "print(\"Min:\", np.min(ucs420_Anshuman))\n",
    "print(\"Unique elements:\", np.unique(ucs420_Anshuman))\n",
    "\n",
    "reshaped = ucs420_Anshuman.reshape(4, 3)\n",
    "print(\"\\nReshaped:\\n\", reshaped)\n",
    "\n",
    "resized = np.resize(ucs420_Anshuman, (2, 3))\n",
    "print(\"\\nResized:\\n\", resized)"
   ]
  },
  {
   "cell_type": "code",
   "execution_count": null,
   "id": "7e3b5b03-e44c-41ed-8610-05ffb74bd647",
   "metadata": {},
   "outputs": [],
   "source": []
  }
 ],
 "metadata": {
  "kernelspec": {
   "display_name": "Python 3 (ipykernel)",
   "language": "python",
   "name": "python3"
  },
  "language_info": {
   "codemirror_mode": {
    "name": "ipython",
    "version": 3
   },
   "file_extension": ".py",
   "mimetype": "text/x-python",
   "name": "python",
   "nbconvert_exporter": "python",
   "pygments_lexer": "ipython3",
   "version": "3.12.7"
  }
 },
 "nbformat": 4,
 "nbformat_minor": 5
}
