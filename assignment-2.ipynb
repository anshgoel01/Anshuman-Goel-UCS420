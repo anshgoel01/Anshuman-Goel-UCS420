{
  "metadata": {
    "kernelspec": {
      "name": "python",
      "display_name": "Python (Pyodide)",
      "language": "python"
    },
    "language_info": {
      "codemirror_mode": {
        "name": "python",
        "version": 3
      },
      "file_extension": ".py",
      "mimetype": "text/x-python",
      "name": "python",
      "nbconvert_exporter": "python",
      "pygments_lexer": "ipython3",
      "version": "3.8"
    }
  },
  "nbformat_minor": 5,
  "nbformat": 4,
  "cells": [
    {
      "id": "00f073d4-482a-41e0-b5c6-5509dfba4f1c",
      "cell_type": "code",
      "source": "L=[10, 20, 30, 40, 50, 60, 70, 80]",
      "metadata": {
        "trusted": true
      },
      "outputs": [],
      "execution_count": 1
    },
    {
      "id": "4af9a06e-afcc-4607-a5e2-ea4a4c05e838",
      "cell_type": "code",
      "source": "print(L)\n",
      "metadata": {
        "trusted": true
      },
      "outputs": [
        {
          "name": "stdout",
          "output_type": "stream",
          "text": "[10, 20, 30, 40, 50, 60, 70, 80]\n"
        }
      ],
      "execution_count": 2
    },
    {
      "id": "42e5e63f-1915-4960-8d3a-7d72cd16f2a1",
      "cell_type": "code",
      "source": "L.append(200)",
      "metadata": {
        "trusted": true
      },
      "outputs": [],
      "execution_count": 3
    },
    {
      "id": "8e926ed5-075a-44d0-8ed9-d4e81fc052f7",
      "cell_type": "code",
      "source": "L.append(300)",
      "metadata": {
        "trusted": true
      },
      "outputs": [],
      "execution_count": 4
    },
    {
      "id": "28c77890-c82f-4bef-a271-70fd2bb8be82",
      "cell_type": "code",
      "source": "L.remove(30)",
      "metadata": {
        "trusted": true
      },
      "outputs": [],
      "execution_count": 5
    },
    {
      "id": "5c52aefd-71f7-44e5-90a8-3cb7b98025f2",
      "cell_type": "code",
      "source": "L.remove(10)",
      "metadata": {
        "trusted": true
      },
      "outputs": [],
      "execution_count": 6
    },
    {
      "id": "e0df0cff-a235-4053-b4f0-9d4d2ba3adc7",
      "cell_type": "code",
      "source": "print(L)",
      "metadata": {
        "trusted": true
      },
      "outputs": [
        {
          "name": "stdout",
          "output_type": "stream",
          "text": "[20, 40, 50, 60, 70, 80, 200, 300]\n"
        }
      ],
      "execution_count": 7
    },
    {
      "id": "db7baa92-aed6-45fa-b882-58531a225e17",
      "cell_type": "code",
      "source": "L.sort()\nprint(L)",
      "metadata": {
        "trusted": true
      },
      "outputs": [
        {
          "name": "stdout",
          "output_type": "stream",
          "text": "[20, 40, 50, 60, 70, 80, 200, 300]\n"
        }
      ],
      "execution_count": 8
    },
    {
      "id": "8c15ec73-2094-4ca2-aac0-167092e6ff74",
      "cell_type": "code",
      "source": "L.sort(reverse=True)\nprint(L)",
      "metadata": {
        "trusted": true
      },
      "outputs": [
        {
          "name": "stdout",
          "output_type": "stream",
          "text": "[300, 200, 80, 70, 60, 50, 40, 20]\n"
        }
      ],
      "execution_count": 9
    },
    {
      "id": "6d2a4136-6c3e-4400-8242-040bb679f67b",
      "cell_type": "markdown",
      "source": "QUES.2",
      "metadata": {}
    },
    {
      "id": "86d795ae-94b1-4068-8241-a75918ab612f",
      "cell_type": "code",
      "source": "tuple=(45,89.5,76,45.4,89,92,58,45)\nprint(tuple)",
      "metadata": {
        "trusted": true
      },
      "outputs": [
        {
          "name": "stdout",
          "output_type": "stream",
          "text": "(45, 89.5, 76, 45.4, 89, 92, 58, 45)\n"
        }
      ],
      "execution_count": 10
    },
    {
      "id": "ebb2695d-a390-43c4-a102-45a45858ce93",
      "cell_type": "code",
      "source": "highest_score=max(tuple)\nprint(highest_score)",
      "metadata": {
        "trusted": true
      },
      "outputs": [
        {
          "name": "stdout",
          "output_type": "stream",
          "text": "92\n"
        }
      ],
      "execution_count": 11
    },
    {
      "id": "80ef58ba-8fd9-47d9-b80d-8f743e3badcd",
      "cell_type": "code",
      "source": "highest_score=max(tuple)\nindex= tuple.index(highest_score)\nprint(highest_score)\nprint(index)",
      "metadata": {
        "trusted": true
      },
      "outputs": [
        {
          "name": "stdout",
          "output_type": "stream",
          "text": "92\n5\n"
        }
      ],
      "execution_count": 16
    },
    {
      "id": "bbe8745f-d607-479c-bfea-881a79d0c091",
      "cell_type": "code",
      "source": "lowest_score=min(tuple)\ncount= tuple.count(lowest_score)\nprint(lowest_score)\nprint(count)",
      "metadata": {
        "trusted": true
      },
      "outputs": [
        {
          "name": "stdout",
          "output_type": "stream",
          "text": "45\n2\n"
        }
      ],
      "execution_count": 17
    },
    {
      "id": "da97172c-2cfc-4951-8f41-8d88027e2341",
      "cell_type": "code",
      "source": "reverse= list(tuple[::-1])\nprint(reverse)",
      "metadata": {
        "trusted": true
      },
      "outputs": [
        {
          "name": "stdout",
          "output_type": "stream",
          "text": "[45, 58, 92, 89, 45.4, 76, 89.5, 45]\n"
        }
      ],
      "execution_count": 18
    },
    {
      "id": "55005fa6-ea68-4be3-943b-ab829054c72a",
      "cell_type": "markdown",
      "source": "Ques. 3",
      "metadata": {}
    },
    {
      "id": "2c8971c6-8cf4-4da9-bc32-d6a9c47c62c2",
      "cell_type": "code",
      "source": "import random\nrandom_numbers = [random.randint(100, 900) for _ in range(100)]\nprint(random_numbers )",
      "metadata": {
        "trusted": true
      },
      "outputs": [
        {
          "name": "stdout",
          "output_type": "stream",
          "text": "[184, 763, 435, 312, 443, 624, 600, 119, 392, 558, 289, 715, 703, 465, 167, 358, 833, 256, 185, 311, 486, 493, 285, 317, 342, 668, 555, 345, 505, 687, 686, 379, 129, 679, 202, 151, 305, 370, 582, 262, 412, 567, 750, 513, 614, 545, 399, 251, 707, 553, 807, 514, 612, 520, 260, 865, 331, 108, 125, 397, 509, 365, 126, 515, 851, 817, 325, 790, 807, 205, 759, 559, 145, 210, 234, 887, 496, 350, 829, 460, 328, 811, 522, 385, 408, 226, 103, 698, 423, 720, 397, 501, 856, 861, 693, 576, 463, 682, 897, 780]\n"
        }
      ],
      "execution_count": 2
    },
    {
      "id": "1b8f0c06-0602-404e-80b6-2f0a618a7153",
      "cell_type": "code",
      "source": "even_count = sum(1 for num in random_numbers if num % 2 == 0)\nodd_count = len(random_numbers) - even_count\nprint(even_count)\nprint(odd_count)",
      "metadata": {
        "trusted": true
      },
      "outputs": [
        {
          "name": "stdout",
          "output_type": "stream",
          "text": "41\n59\n"
        }
      ],
      "execution_count": 3
    },
    {
      "id": "ec92c03c-aa50-426e-bf7f-6f7df3303eef",
      "cell_type": "code",
      "source": "prime=",
      "metadata": {
        "trusted": true
      },
      "outputs": [],
      "execution_count": null
    },
    {
      "id": "a5e44b2c-59d6-4341-8bc9-5d1018def97f",
      "cell_type": "markdown",
      "source": "Ques 4",
      "metadata": {}
    },
    {
      "id": "5ba4770e-5f05-49c5-9209-212b53285bb3",
      "cell_type": "code",
      "source": "teama = {34, 56, 78, 90}\nteamb = {78, 45, 90, 23}\nprint(teama,teamb)",
      "metadata": {
        "trusted": true
      },
      "outputs": [
        {
          "name": "stdout",
          "output_type": "stream",
          "text": "{56, 34, 90, 78} {90, 45, 78, 23}\n"
        }
      ],
      "execution_count": 3
    },
    {
      "id": "3c1ef127-85a9-4a8a-962f-c771f253f339",
      "cell_type": "code",
      "source": "print(teama | teamb)",
      "metadata": {
        "trusted": true
      },
      "outputs": [
        {
          "name": "stdout",
          "output_type": "stream",
          "text": "{34, 45, 78, 23, 56, 90}\n"
        }
      ],
      "execution_count": 4
    },
    {
      "id": "7b2da73b-f98c-471c-9510-94062f09ea06",
      "cell_type": "code",
      "source": "print(teama & teamb)",
      "metadata": {
        "trusted": true
      },
      "outputs": [
        {
          "name": "stdout",
          "output_type": "stream",
          "text": "{90, 78}\n"
        }
      ],
      "execution_count": 5
    },
    {
      "id": "9f986fbc-615f-40a9-9ce2-9abb4499ed17",
      "cell_type": "code",
      "source": "print(teama ^ teamb)",
      "metadata": {
        "trusted": true
      },
      "outputs": [
        {
          "name": "stdout",
          "output_type": "stream",
          "text": "{34, 45, 23, 56}\n"
        }
      ],
      "execution_count": 6
    },
    {
      "id": "fbc7218a-e524-49f2-824a-0dd3cc76e443",
      "cell_type": "code",
      "source": "is_subset = teama.issubset(teamb)\nprint(f\"Are team A's scores a subset of team B? {is_subset}\")\n\nis_superset = teamb.issuperset(teama)\nprint(f\"Are team B's scores a superset of team A? {is_superset}\")",
      "metadata": {
        "trusted": true
      },
      "outputs": [
        {
          "name": "stdout",
          "output_type": "stream",
          "text": "Are team A's scores a subset of team B? False\nAre team B's scores a superset of team A? False\n"
        }
      ],
      "execution_count": 7
    },
    {
      "id": "d5669b53-3ef5-4d24-85b3-4bccc15d671b",
      "cell_type": "code",
      "source": "# x = int(input(\"enter the number:\"))\nX = 78\nif X in teama:\n    teama.remove(X)\n    print(f\"The score {X} has been removed from set A.\")\nelse:\n    print(f\"The score {X} is not present in set A.\")\n\nprint(f\"Updated set A: {teama}\")",
      "metadata": {
        "trusted": true
      },
      "outputs": [
        {
          "name": "stdout",
          "output_type": "stream",
          "text": "The score 78 has been removed from set A.\nUpdated set A: {56, 34, 90}\n"
        }
      ],
      "execution_count": 9
    },
    {
      "id": "594dc1ff-66c7-4904-9319-11769bc2553d",
      "cell_type": "markdown",
      "source": "Ques. 5",
      "metadata": {}
    },
    {
      "id": "a4d0261c-bb85-4126-9419-2c38d8fafc5d",
      "cell_type": "code",
      "source": "sample_dict = {\n    \"name\" : \"ansh\", \n    \"age\" : 20,\n    \"salary\" : 8000000,\n    \"city\" : \"california\"\n}\nprint(sample_dict)",
      "metadata": {
        "trusted": true
      },
      "outputs": [
        {
          "name": "stdout",
          "output_type": "stream",
          "text": "{'name': 'ansh', 'age': 20, 'salary': 8000000, 'city': 'california'}\n"
        }
      ],
      "execution_count": 10
    },
    {
      "id": "144385d6-e828-4790-a4f6-43fac659fb24",
      "cell_type": "code",
      "source": "if \"city\" in sample_dict:\n    sample_dict[\"location\"] = sample_dict.pop(\"city\") \n\nprint(\"Updated Dictionary:\", sample_dict)",
      "metadata": {
        "trusted": true
      },
      "outputs": [
        {
          "name": "stdout",
          "output_type": "stream",
          "text": "Updated Dictionary: {'name': 'ansh', 'age': 20, 'salary': 8000000, 'location': 'california'}\n"
        }
      ],
      "execution_count": 11
    },
    {
      "id": "a814b826-0f55-4112-8ce0-7d108d8695bc",
      "cell_type": "code",
      "source": "",
      "metadata": {
        "trusted": true
      },
      "outputs": [],
      "execution_count": null
    }
  ]
}