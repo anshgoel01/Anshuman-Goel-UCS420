{
 "cells": [
  {
   "cell_type": "code",
   "execution_count": 2,
   "id": "588f6980-8694-46d9-b049-759e83af4863",
   "metadata": {},
   "outputs": [
    {
     "name": "stdout",
     "output_type": "stream",
     "text": [
      "hello world\n"
     ]
    }
   ],
   "source": [
    "print(\"hello world\")"
   ]
  },
  {
   "cell_type": "markdown",
   "id": "3d4d60ef-4aae-4822-8805-f655c8f73649",
   "metadata": {},
   "source": [
    "Assingment 1.1: WAP to print your name three times"
   ]
  },
  {
   "cell_type": "code",
   "execution_count": 4,
   "id": "0902fb02-b732-4733-84be-851dde28ae84",
   "metadata": {},
   "outputs": [
    {
     "name": "stdout",
     "output_type": "stream",
     "text": [
      "Anshuman Goel\n",
      "Anshuman Goel\n",
      "Anshuman Goel\n"
     ]
    }
   ],
   "source": [
    "print(\"Anshuman Goel\")\n",
    "print(\"Anshuman Goel\")\n",
    "print(\"Anshuman Goel\")"
   ]
  },
  {
   "cell_type": "markdown",
   "id": "b7730478-58c6-41a5-abe5-3b4b0a44c9a2",
   "metadata": {},
   "source": [
    "Assingment 2.1: WAP to add three numbers and print the result."
   ]
  },
  {
   "cell_type": "code",
   "execution_count": 7,
   "id": "185a7279-4e10-4820-b2c5-6c3236eedbe1",
   "metadata": {},
   "outputs": [
    {
     "name": "stdout",
     "output_type": "stream",
     "text": [
      "20 + 20 + 20 = 60\n"
     ]
    }
   ],
   "source": [
    "a = 20\n",
    "b = 20\n",
    "c = 20\n",
    "d = a + b + c\n",
    "print(a,\"+\",b,\"+\",c,\"=\",d)"
   ]
  },
  {
   "cell_type": "markdown",
   "id": "5c8458cb-3b5d-4608-9259-720c2822b07d",
   "metadata": {},
   "source": [
    "Assingment 2.2: WAP to concatinate three strings and print the result."
   ]
  },
  {
   "cell_type": "code",
   "execution_count": 12,
   "id": "64d621c9-9014-44a2-a499-b2ceb08205f3",
   "metadata": {},
   "outputs": [
    {
     "name": "stdout",
     "output_type": "stream",
     "text": [
      "abc + xyz + igh = abcxyzigh\n"
     ]
    }
   ],
   "source": [
    "a = \"abc\"\n",
    "b = \"xyz\"\n",
    "c = \"igh\"\n",
    "d = a + b + c\n",
    "print(a,\"+\",b,\"+\",c,\"=\",d)"
   ]
  },
  {
   "cell_type": "markdown",
   "id": "03becd31-58fc-4f85-94e5-dc007838662c",
   "metadata": {},
   "source": [
    "Assingment 4.1: WAP to print the table of 7, 9."
   ]
  },
  {
   "cell_type": "code",
   "execution_count": 15,
   "id": "d731ad40-ddf9-4d62-b107-293bdb0b99f4",
   "metadata": {},
   "outputs": [
    {
     "name": "stdout",
     "output_type": "stream",
     "text": [
      "5 * 1 = 5\n",
      "5 * 2 = 10\n",
      "5 * 3 = 15\n",
      "5 * 4 = 20\n",
      "5 * 5 = 25\n",
      "5 * 6 = 30\n",
      "5 * 7 = 35\n",
      "5 * 8 = 40\n",
      "5 * 9 = 45\n",
      "5 * 10 = 50\n"
     ]
    }
   ],
   "source": [
    "for i in range(1,11):\n",
    "    print(5,\"*\",i,\"=\",i*5)\n"
   ]
  },
  {
   "cell_type": "markdown",
   "id": "ec25fccd-141f-4254-ad35-d57af423b80e",
   "metadata": {},
   "source": [
    "Assingment 4.2: WAP to print the table of n and n is given by user."
   ]
  },
  {
   "cell_type": "code",
   "execution_count": 18,
   "id": "2e17826d-6677-421c-93d4-7e4e9a89e6f7",
   "metadata": {},
   "outputs": [
    {
     "name": "stdin",
     "output_type": "stream",
     "text": [
      "Enter First No:  3\n",
      "Enter Second No:  4\n"
     ]
    },
    {
     "name": "stdout",
     "output_type": "stream",
     "text": [
      "3 * 4 = 12\n"
     ]
    }
   ],
   "source": [
    "a = int(input(\"Enter First No: \"))\n",
    "b = int(input(\"Enter Second No: \"))\n",
    "c = a * b\n",
    "print(a,\"*\",b,\"=\",c)"
   ]
  },
  {
   "cell_type": "markdown",
   "id": "4b837488-d412-493a-b5c9-14b9ffb97db8",
   "metadata": {},
   "source": [
    "Assingment 4.3: WAP to add all the numbers from 1 to n and n is given by user."
   ]
  },
  {
   "cell_type": "code",
   "execution_count": 29,
   "id": "393aa5de-ed5f-45ab-9d52-770ce7d6f847",
   "metadata": {},
   "outputs": [
    {
     "name": "stdin",
     "output_type": "stream",
     "text": [
      "Enter No:  5\n"
     ]
    },
    {
     "name": "stdout",
     "output_type": "stream",
     "text": [
      "Sum is -->  15\n"
     ]
    }
   ],
   "source": [
    "a = int(input(\"Enter No: \"))\n",
    "print (\"Sum is --> \", sum(range(1,a+1)))"
   ]
  },
  {
   "cell_type": "markdown",
   "id": "54340c27-9aa8-47d8-bbe9-e72f34f3e73e",
   "metadata": {},
   "source": [
    "Assingment 5.1: WAP to find max amoung three numbers and input from user. [Try max() function]"
   ]
  },
  {
   "cell_type": "code",
   "execution_count": 4,
   "id": "c64ab1d1-7360-49e1-abea-cb7e2c92de24",
   "metadata": {},
   "outputs": [
    {
     "name": "stdin",
     "output_type": "stream",
     "text": [
      "Enter First No:  4\n",
      "Enter Second No:  5\n",
      "Enter Third No:  6\n"
     ]
    },
    {
     "name": "stdout",
     "output_type": "stream",
     "text": [
      "max = 6\n"
     ]
    }
   ],
   "source": [
    "a = int(input(\"Enter First No: \"))\n",
    "b = int(input(\"Enter Second No: \"))\n",
    "c = int(input(\"Enter Third No: \"))\n",
    "d = max(a,b,c)\n",
    "print(\"max =\",d)"
   ]
  },
  {
   "cell_type": "code",
   "execution_count": null,
   "id": "5603002c-6cba-49fa-a9f6-98a05e748751",
   "metadata": {},
   "outputs": [],
   "source": []
  }
 ],
 "metadata": {
  "kernelspec": {
   "display_name": "Python [conda env:base] *",
   "language": "python",
   "name": "conda-base-py"
  },
  "language_info": {
   "codemirror_mode": {
    "name": "ipython",
    "version": 3
   },
   "file_extension": ".py",
   "mimetype": "text/x-python",
   "name": "python",
   "nbconvert_exporter": "python",
   "pygments_lexer": "ipython3",
   "version": "3.12.7"
  }
 },
 "nbformat": 4,
 "nbformat_minor": 5
}
