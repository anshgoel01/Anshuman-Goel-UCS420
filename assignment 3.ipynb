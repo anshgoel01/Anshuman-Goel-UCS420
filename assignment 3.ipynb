{
 "cells": [
  {
   "cell_type": "code",
   "execution_count": 4,
   "id": "0f695cfa-7450-4de8-b190-b1f9662eae11",
   "metadata": {},
   "outputs": [
    {
     "name": "stdout",
     "output_type": "stream",
     "text": [
      "   Tid Refund Marital Status Taxable Income Cheat\n",
      "0    1    Yes         Single           125K    No\n",
      "1    2     No        Married           100K    No\n",
      "2    3     No         Single            70K    No\n",
      "3    4    Yes        Married           120K    No\n",
      "4    5     No       Divorced            95K   Yes\n",
      "5    6     No        Married            60K   Yes\n",
      "6    7    Yes       Divorced           220K    No\n",
      "7    8     No         Single            85K   Yes\n",
      "8    9     No        Married            75K   Yes\n",
      "9   10     No         Single            90K   Yes\n"
     ]
    }
   ],
   "source": [
    "import pandas as pd\n",
    "\n",
    "data = {\n",
    "    \"Tid\": [1, 2, 3, 4, 5, 6, 7, 8, 9, 10],\n",
    "    \"Refund\": [\"Yes\", \"No\", \"No\", \"Yes\", \"No\", \"No\", \"Yes\", \"No\", \"No\", \"No\"],\n",
    "    \"Marital Status\": [\"Single\", \"Married\", \"Single\", \"Married\", \"Divorced\", \"Married\", \"Divorced\", \"Single\", \"Married\", \"Single\"],\n",
    "    \"Taxable Income\": [\"125K\", \"100K\", \"70K\", \"120K\", \"95K\", \"60K\", \"220K\", \"85K\", \"75K\", \"90K\"],\n",
    "    \"Cheat\": [\"No\", \"No\", \"No\", \"No\", \"Yes\", \"Yes\", \"No\", \"Yes\", \"Yes\", \"Yes\"],\n",
    "}\n",
    "\n",
    "df = pd.DataFrame(data)\n",
    "\n",
    "print(df)\n"
   ]
  },
  {
   "cell_type": "code",
   "execution_count": 3,
   "id": "46f4d3d8-5789-4056-a858-1ea312f6ebe1",
   "metadata": {},
   "outputs": [
    {
     "name": "stdout",
     "output_type": "stream",
     "text": [
      "   Tid Refund Marital Status Taxable Income Cheat\n",
      "0    1    Yes         Single           125K    No\n",
      "4    5     No       Divorced            95K   Yes\n",
      "7    8     No         Single            85K   Yes\n",
      "8    9     No        Married            75K   Yes\n"
     ]
    }
   ],
   "source": [
    "selected_rows = df.iloc[[0, 4, 7, 8]]\n",
    "\n",
    "print(selected_rows)\n"
   ]
  },
  {
   "cell_type": "code",
   "execution_count": 5,
   "id": "68fc58fb-d0f5-4f4e-a7a4-7c617a1ff74e",
   "metadata": {},
   "outputs": [
    {
     "name": "stdout",
     "output_type": "stream",
     "text": [
      "Rows from index 3 to 7:\n",
      "   Tid Refund Marital Status Taxable Income Cheat\n",
      "3    4    Yes        Married           120K    No\n",
      "4    5     No       Divorced            95K   Yes\n",
      "5    6     No        Married            60K   Yes\n",
      "6    7    Yes       Divorced           220K    No\n",
      "\n",
      "Rows from index 4 to 8 and columns 2 to 4:\n",
      "  Marital Status Taxable Income Cheat\n",
      "4       Divorced            95K   Yes\n",
      "5        Married            60K   Yes\n",
      "6       Divorced           220K    No\n",
      "7         Single            85K   Yes\n",
      "\n",
      "All rows with column index 1 to 3:\n",
      "  Refund Marital Status Taxable Income\n",
      "0    Yes         Single           125K\n",
      "1     No        Married           100K\n",
      "2     No         Single            70K\n",
      "3    Yes        Married           120K\n",
      "4     No       Divorced            95K\n",
      "5     No        Married            60K\n",
      "6    Yes       Divorced           220K\n",
      "7     No         Single            85K\n",
      "8     No        Married            75K\n",
      "9     No         Single            90K\n"
     ]
    }
   ],
   "source": [
    "rows_3_to_7 = df.iloc[3:7]\n",
    "print(\"Rows from index 3 to 7:\")\n",
    "print(rows_3_to_7)\n",
    "\n",
    "rows_4_to_8_columns_2_to_4 = df.iloc[4:8, 2:5]\n",
    "print(\"\\nRows from index 4 to 8 and columns 2 to 4:\")\n",
    "print(rows_4_to_8_columns_2_to_4)\n",
    "\n",
    "all_rows_columns_1_to_3 = df.iloc[:, 1:4]\n",
    "print(\"\\nAll rows with column index 1 to 3:\")\n",
    "print(all_rows_columns_1_to_3)\n"
   ]
  },
  {
   "cell_type": "code",
   "execution_count": 13,
   "id": "4cdf01d7-72b9-43a4-ac17-d4af6de14f8e",
   "metadata": {},
   "outputs": [
    {
     "name": "stdout",
     "output_type": "stream",
     "text": [
      "   Employee_ID     Name Department  Age Salary  Years_of_Experience  \\\n",
      "0          101    Alice         HR   29    50k                    4   \n",
      "1          102      Bob         IT   34    70k                    8   \n",
      "2          103  charlie         IT   41    65k                   10   \n",
      "3          104    Diana  Marketing   28    55k                    3   \n",
      "4          105   Edward      Sales   38    60k                   12   \n",
      "\n",
      "  Joining_Date  Gender Bonus  Rating  \n",
      "0   2020-03-15  Female    5k     4.5  \n",
      "1   2017-07-19    Male    7k     4.0  \n",
      "2   2013-06-01    Male    6k     3.8  \n",
      "3   2021-02-10  Female  4.5k     4.7  \n",
      "4   2010-11-25    Male    5k     3.5  \n"
     ]
    }
   ],
   "source": [
    "import pandas as pd\n",
    "\n",
    "data = {\n",
    "    \"Employee_ID\": [101, 102, 103, 104, 105],\n",
    "    \"Name\": [\"Alice\",\"Bob\",\"charlie\",\"Diana\",\"Edward\"],\n",
    "    \"Department\": [\"HR\",\"IT\",\"IT\",\"Marketing\",\"Sales\"],\n",
    "    \"Age\": [29,34,41,28,38],\n",
    "    \"Salary\": [\"50k\",\"70k\",\"65k\",\"55k\",\"60k\"],\n",
    "    \"Years_of_Experience\": [4,8,10,3,12],\n",
    "    \"Joining_Date\": [\"2020-03-15\",\"2017-07-19\",\"2013-06-01\",\"2021-02-10\",\"2010-11-25\"],\n",
    "    \"Gender\": [\"Female\",\"Male\",\"Male\",\"Female\",\"Male\"],\n",
    "    \"Bonus\": [\"5k\",\"7k\",\"6k\",\"4.5k\",\"5k\"],\n",
    "    \"Rating\": [4.5,4.0,3.8,4.7,3.5]\n",
    "}\n",
    "\n",
    "df = pd.DataFrame(data)\n",
    "\n",
    "print(df)\n"
   ]
  },
  {
   "cell_type": "code",
   "execution_count": 14,
   "id": "6a0c1636-9b89-40dc-8d92-a8301d8c57ae",
   "metadata": {},
   "outputs": [
    {
     "name": "stdout",
     "output_type": "stream",
     "text": [
      "The DataFrame has 5 rows and 10 columns.\n"
     ]
    }
   ],
   "source": [
    "shape = df.shape\n",
    "print(f\"The DataFrame has {shape[0]} rows and {shape[1]} columns.\")\n"
   ]
  },
  {
   "cell_type": "code",
   "execution_count": 15,
   "id": "0b84dca0-55de-489f-86d3-2efadcc29538",
   "metadata": {},
   "outputs": [
    {
     "name": "stdout",
     "output_type": "stream",
     "text": [
      "<class 'pandas.core.frame.DataFrame'>\n",
      "RangeIndex: 5 entries, 0 to 4\n",
      "Data columns (total 10 columns):\n",
      " #   Column               Non-Null Count  Dtype  \n",
      "---  ------               --------------  -----  \n",
      " 0   Employee_ID          5 non-null      int64  \n",
      " 1   Name                 5 non-null      object \n",
      " 2   Department           5 non-null      object \n",
      " 3   Age                  5 non-null      int64  \n",
      " 4   Salary               5 non-null      object \n",
      " 5   Years_of_Experience  5 non-null      int64  \n",
      " 6   Joining_Date         5 non-null      object \n",
      " 7   Gender               5 non-null      object \n",
      " 8   Bonus                5 non-null      object \n",
      " 9   Rating               5 non-null      float64\n",
      "dtypes: float64(1), int64(3), object(6)\n",
      "memory usage: 532.0+ bytes\n"
     ]
    }
   ],
   "source": [
    "df.info()"
   ]
  },
  {
   "cell_type": "code",
   "execution_count": 17,
   "id": "eb99f7cb-c56f-4b94-9f0b-4f3d5ecb0558",
   "metadata": {},
   "outputs": [
    {
     "name": "stdout",
     "output_type": "stream",
     "text": [
      "\n",
      "Descriptive statistics for all columns:\n",
      "        Employee_ID   Name Department        Age Salary  Years_of_Experience  \\\n",
      "count      5.000000      5          5   5.000000      5             5.000000   \n",
      "unique          NaN      5          4        NaN      5                  NaN   \n",
      "top             NaN  Alice         IT        NaN    50k                  NaN   \n",
      "freq            NaN      1          2        NaN      1                  NaN   \n",
      "mean     103.000000    NaN        NaN  34.000000    NaN             7.400000   \n",
      "std        1.581139    NaN        NaN   5.612486    NaN             3.847077   \n",
      "min      101.000000    NaN        NaN  28.000000    NaN             3.000000   \n",
      "25%      102.000000    NaN        NaN  29.000000    NaN             4.000000   \n",
      "50%      103.000000    NaN        NaN  34.000000    NaN             8.000000   \n",
      "75%      104.000000    NaN        NaN  38.000000    NaN            10.000000   \n",
      "max      105.000000    NaN        NaN  41.000000    NaN            12.000000   \n",
      "\n",
      "       Joining_Date Gender Bonus    Rating  \n",
      "count             5      5     5  5.000000  \n",
      "unique            5      2     4       NaN  \n",
      "top      2020-03-15   Male    5k       NaN  \n",
      "freq              1      3     2       NaN  \n",
      "mean            NaN    NaN   NaN  4.100000  \n",
      "std             NaN    NaN   NaN  0.494975  \n",
      "min             NaN    NaN   NaN  3.500000  \n",
      "25%             NaN    NaN   NaN  3.800000  \n",
      "50%             NaN    NaN   NaN  4.000000  \n",
      "75%             NaN    NaN   NaN  4.500000  \n",
      "max             NaN    NaN   NaN  4.700000  \n"
     ]
    }
   ],
   "source": [
    "all_stats = df.describe(include='all')\n",
    "print(\"\\nDescriptive statistics for all columns:\")\n",
    "print(all_stats)"
   ]
  },
  {
   "cell_type": "code",
   "execution_count": 18,
   "id": "58ca6a57-fe6f-4fab-9262-ed3427b92c84",
   "metadata": {},
   "outputs": [
    {
     "name": "stdout",
     "output_type": "stream",
     "text": [
      "First 5 rows of the dataset:\n",
      "   Employee_ID     Name Department  Age Salary  Years_of_Experience  \\\n",
      "0          101    Alice         HR   29    50k                    4   \n",
      "1          102      Bob         IT   34    70k                    8   \n",
      "2          103  charlie         IT   41    65k                   10   \n",
      "3          104    Diana  Marketing   28    55k                    3   \n",
      "4          105   Edward      Sales   38    60k                   12   \n",
      "\n",
      "  Joining_Date  Gender Bonus  Rating  \n",
      "0   2020-03-15  Female    5k     4.5  \n",
      "1   2017-07-19    Male    7k     4.0  \n",
      "2   2013-06-01    Male    6k     3.8  \n",
      "3   2021-02-10  Female  4.5k     4.7  \n",
      "4   2010-11-25    Male    5k     3.5  \n",
      "\n",
      "Last 3 rows of the dataset:\n",
      "   Employee_ID     Name Department  Age Salary  Years_of_Experience  \\\n",
      "2          103  charlie         IT   41    65k                   10   \n",
      "3          104    Diana  Marketing   28    55k                    3   \n",
      "4          105   Edward      Sales   38    60k                   12   \n",
      "\n",
      "  Joining_Date  Gender Bonus  Rating  \n",
      "2   2013-06-01    Male    6k     3.8  \n",
      "3   2021-02-10  Female  4.5k     4.7  \n",
      "4   2010-11-25    Male    5k     3.5  \n"
     ]
    }
   ],
   "source": [
    "first_5_rows = df.head()\n",
    "print(\"First 5 rows of the dataset:\")\n",
    "print(first_5_rows)\n",
    "\n",
    "last_3_rows = df.tail(3)\n",
    "print(\"\\nLast 3 rows of the dataset:\")\n",
    "print(last_3_rows)\n"
   ]
  },
  {
   "cell_type": "code",
   "execution_count": 19,
   "id": "7da67311-26ca-4a3b-8826-886b9bfbc040",
   "metadata": {},
   "outputs": [
    {
     "name": "stdout",
     "output_type": "stream",
     "text": [
      "The average salary of employees: 60000.0\n",
      "The total bonus paid to all employees: 27500.0\n",
      "The youngest employee's age: 28\n",
      "The highest performance rating: 4.7\n"
     ]
    }
   ],
   "source": [
    "df['Salary'] = df['Salary'].str.replace('k', '').astype(int) * 1000\n",
    "df['Bonus'] = df['Bonus'].str.replace('k', '').astype(float) * 1000\n",
    "\n",
    "average_salary = df['Salary'].mean()\n",
    "print(f\"The average salary of employees: {average_salary}\")\n",
    "\n",
    "total_bonus = df['Bonus'].sum()\n",
    "print(f\"The total bonus paid to all employees: {total_bonus}\")\n",
    "\n",
    "youngest_age = df['Age'].min()\n",
    "print(f\"The youngest employee's age: {youngest_age}\")\n",
    "\n",
    "highest_rating = df['Rating'].max()\n",
    "print(f\"The highest performance rating: {highest_rating}\")"
   ]
  },
  {
   "cell_type": "code",
   "execution_count": 20,
   "id": "eca6dddc-3035-451d-9d7a-0d63757a57b3",
   "metadata": {},
   "outputs": [
    {
     "name": "stdout",
     "output_type": "stream",
     "text": [
      "   Employee_ID     Name Department  Age  Salary  Years_of_Experience  \\\n",
      "1          102      Bob         IT   34   70000                    8   \n",
      "2          103  charlie         IT   41   65000                   10   \n",
      "4          105   Edward      Sales   38   60000                   12   \n",
      "3          104    Diana  Marketing   28   55000                    3   \n",
      "0          101    Alice         HR   29   50000                    4   \n",
      "\n",
      "  Joining_Date  Gender   Bonus  Rating  \n",
      "1   2017-07-19    Male  7000.0     4.0  \n",
      "2   2013-06-01    Male  6000.0     3.8  \n",
      "4   2010-11-25    Male  5000.0     3.5  \n",
      "3   2021-02-10  Female  4500.0     4.7  \n",
      "0   2020-03-15  Female  5000.0     4.5  \n"
     ]
    }
   ],
   "source": [
    "df_sorted = df.sort_values(by=\"Salary\", ascending=False)\n",
    "print(df_sorted)\n"
   ]
  },
  {
   "cell_type": "code",
   "execution_count": 21,
   "id": "79a4b7d1-5f19-43e2-b2ee-c38a084f0455",
   "metadata": {},
   "outputs": [
    {
     "name": "stdout",
     "output_type": "stream",
     "text": [
      "   Employee_ID     Name Department  Age  Salary  Years_of_Experience  \\\n",
      "0          101    Alice         HR   29   50000                    4   \n",
      "1          102      Bob         IT   34   70000                    8   \n",
      "2          103  charlie         IT   41   65000                   10   \n",
      "3          104    Diana  Marketing   28   55000                    3   \n",
      "4          105   Edward      Sales   38   60000                   12   \n",
      "\n",
      "  Joining_Date  Gender   Bonus  Rating Performance_Category  \n",
      "0   2020-03-15  Female  5000.0     4.5            Excellent  \n",
      "1   2017-07-19    Male  7000.0     4.0                 Good  \n",
      "2   2013-06-01    Male  6000.0     3.8              Average  \n",
      "3   2021-02-10  Female  4500.0     4.7            Excellent  \n",
      "4   2010-11-25    Male  5000.0     3.5              Average  \n"
     ]
    }
   ],
   "source": [
    "def categorize_performance(rating):\n",
    "    if rating >= 4.5:\n",
    "        return \"Excellent\"\n",
    "    elif rating >= 4.0:\n",
    "        return \"Good\"\n",
    "    else:\n",
    "        return \"Average\"\n",
    "\n",
    "df['Performance_Category'] = df['Rating'].apply(categorize_performance)\n",
    "print(df)\n"
   ]
  },
  {
   "cell_type": "code",
   "execution_count": 22,
   "id": "37190ac5-30dd-4752-9dd5-9a51f39b46b0",
   "metadata": {},
   "outputs": [
    {
     "name": "stdout",
     "output_type": "stream",
     "text": [
      "Missing values in each column:\n",
      "Employee_ID             0\n",
      "Name                    0\n",
      "Department              0\n",
      "Age                     0\n",
      "Salary                  0\n",
      "Years_of_Experience     0\n",
      "Joining_Date            0\n",
      "Gender                  0\n",
      "Bonus                   0\n",
      "Rating                  0\n",
      "Performance_Category    0\n",
      "dtype: int64\n"
     ]
    }
   ],
   "source": [
    "missing_values = df.isnull().sum()\n",
    "\n",
    "print(\"Missing values in each column:\")\n",
    "print(missing_values)\n"
   ]
  },
  {
   "cell_type": "code",
   "execution_count": 23,
   "id": "0a979a05-b166-407b-8eb1-18a7f6ac55a2",
   "metadata": {},
   "outputs": [
    {
     "name": "stdout",
     "output_type": "stream",
     "text": [
      "    ID     Name Department  Age  Salary  Years_of_Experience Joining_Date  \\\n",
      "0  101    Alice         HR   29   50000                    4   2020-03-15   \n",
      "1  102      Bob         IT   34   70000                    8   2017-07-19   \n",
      "2  103  charlie         IT   41   65000                   10   2013-06-01   \n",
      "3  104    Diana  Marketing   28   55000                    3   2021-02-10   \n",
      "4  105   Edward      Sales   38   60000                   12   2010-11-25   \n",
      "\n",
      "   Gender   Bonus  Rating Performance_Category  \n",
      "0  Female  5000.0     4.5            Excellent  \n",
      "1    Male  7000.0     4.0                 Good  \n",
      "2    Male  6000.0     3.8              Average  \n",
      "3  Female  4500.0     4.7            Excellent  \n",
      "4    Male  5000.0     3.5              Average  \n"
     ]
    }
   ],
   "source": [
    "df.rename(columns={\"Employee_ID\": \"ID\"}, inplace=True)\n",
    "print(df)"
   ]
  },
  {
   "cell_type": "code",
   "execution_count": 24,
   "id": "91842bd9-2089-4685-872d-ee48bcbcb678",
   "metadata": {},
   "outputs": [
    {
     "name": "stdout",
     "output_type": "stream",
     "text": [
      "Employees with more than 5 years of experience:\n",
      "    ID     Name Department  Age  Salary  Years_of_Experience Joining_Date  \\\n",
      "1  102      Bob         IT   34   70000                    8   2017-07-19   \n",
      "2  103  charlie         IT   41   65000                   10   2013-06-01   \n",
      "4  105   Edward      Sales   38   60000                   12   2010-11-25   \n",
      "\n",
      "  Gender   Bonus  Rating Performance_Category  \n",
      "1   Male  7000.0     4.0                 Good  \n",
      "2   Male  6000.0     3.8              Average  \n",
      "4   Male  5000.0     3.5              Average  \n",
      "\n",
      "Employees in the IT department:\n",
      "    ID     Name Department  Age  Salary  Years_of_Experience Joining_Date  \\\n",
      "1  102      Bob         IT   34   70000                    8   2017-07-19   \n",
      "2  103  charlie         IT   41   65000                   10   2013-06-01   \n",
      "\n",
      "  Gender   Bonus  Rating Performance_Category  \n",
      "1   Male  7000.0     4.0                 Good  \n",
      "2   Male  6000.0     3.8              Average  \n"
     ]
    }
   ],
   "source": [
    "experienced_employees = df[df[\"Years_of_Experience\"] > 5]\n",
    "print(\"Employees with more than 5 years of experience:\")\n",
    "print(experienced_employees)\n",
    "\n",
    "it_employees = df[df[\"Department\"] == \"IT\"]\n",
    "print(\"\\nEmployees in the IT department:\")\n",
    "print(it_employees)\n"
   ]
  },
  {
   "cell_type": "code",
   "execution_count": 25,
   "id": "804a11c0-6e48-45e6-867b-115f86db4bf0",
   "metadata": {},
   "outputs": [
    {
     "name": "stdout",
     "output_type": "stream",
     "text": [
      "    ID     Name Department  Age  Salary  Years_of_Experience Joining_Date  \\\n",
      "0  101    Alice         HR   29   50000                    4   2020-03-15   \n",
      "1  102      Bob         IT   34   70000                    8   2017-07-19   \n",
      "2  103  charlie         IT   41   65000                   10   2013-06-01   \n",
      "3  104    Diana  Marketing   28   55000                    3   2021-02-10   \n",
      "4  105   Edward      Sales   38   60000                   12   2010-11-25   \n",
      "\n",
      "   Gender   Bonus  Rating Performance_Category     Tax  \n",
      "0  Female  5000.0     4.5            Excellent  5000.0  \n",
      "1    Male  7000.0     4.0                 Good  7000.0  \n",
      "2    Male  6000.0     3.8              Average  6500.0  \n",
      "3  Female  4500.0     4.7            Excellent  5500.0  \n",
      "4    Male  5000.0     3.5              Average  6000.0  \n"
     ]
    }
   ],
   "source": [
    "df[\"Tax\"] = df[\"Salary\"] * 0.10\n",
    "print(df)"
   ]
  },
  {
   "cell_type": "code",
   "execution_count": 26,
   "id": "d097deb5-a0bb-4196-9165-f8b0118f177a",
   "metadata": {},
   "outputs": [],
   "source": [
    "import pandas as pd\n",
    "\n",
    "df.to_csv('modified_data.csv', index=False)"
   ]
  }
 ],
 "metadata": {
  "kernelspec": {
   "display_name": "Python 3 (ipykernel)",
   "language": "python",
   "name": "python3"
  },
  "language_info": {
   "codemirror_mode": {
    "name": "ipython",
    "version": 3
   },
   "file_extension": ".py",
   "mimetype": "text/x-python",
   "name": "python",
   "nbconvert_exporter": "python",
   "pygments_lexer": "ipython3",
   "version": "3.12.7"
  }
 },
 "nbformat": 4,
 "nbformat_minor": 5
}
